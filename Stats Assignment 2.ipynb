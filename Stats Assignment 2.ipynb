{
 "cells": [
  {
   "cell_type": "code",
   "execution_count": 1,
   "metadata": {},
   "outputs": [],
   "source": [
    "import pandas as pd \n",
    "import numpy as np"
   ]
  },
  {
   "cell_type": "markdown",
   "metadata": {},
   "source": [
    "# Q1"
   ]
  },
  {
   "cell_type": "code",
   "execution_count": 35,
   "metadata": {},
   "outputs": [],
   "source": [
    "#1.Yes, because values in both are statement about population or distribution, have equal values and has inequality in null hypothesis.\n",
    "#2.No, because null hypothesis has a > claim and alternate hypothesis has equality.\n",
    "#3.No, because hypothesis is stated in terms of statistics and not individual data. \n",
    "#4.No, because values in both hypothesis is different and has equal sign.\n",
    "#5.No, because hypothesis are always statements about population or distribution and not about sample"
   ]
  },
  {
   "cell_type": "markdown",
   "metadata": {},
   "source": [
    "# Q2"
   ]
  },
  {
   "cell_type": "code",
   "execution_count": 2,
   "metadata": {},
   "outputs": [
    {
     "name": "stdout",
     "output_type": "stream",
     "text": [
      "Z Score:1.7777777777777715\n",
      "Critical Range: (-1.9599639845400545,1.9599639845400545)\n"
     ]
    }
   ],
   "source": [
    "from scipy.stats import norm\n",
    "u0=52\n",
    "std0=4.5\n",
    "u1=52.8\n",
    "sample=100\n",
    "s=0.05\n",
    "z=(u1-u0)/(std0/np.sqrt(sample))\n",
    "print(f'Z Score:{z}')\n",
    "print(f'Critical Range: ({norm.ppf(s/2)},{-norm.ppf(s/2)})')"
   ]
  },
  {
   "cell_type": "raw",
   "metadata": {},
   "source": [
    "We Fail to Reject Shopkeeper's Claim as Z Score is less than critical Range."
   ]
  },
  {
   "cell_type": "markdown",
   "metadata": {},
   "source": [
    "# Q3"
   ]
  },
  {
   "cell_type": "code",
   "execution_count": 3,
   "metadata": {},
   "outputs": [
    {
     "name": "stdout",
     "output_type": "stream",
     "text": [
      "Z Score:-1.3258252147247767\n",
      "Critical Range: (-2.575829303548901,2.575829303548901)\n"
     ]
    }
   ],
   "source": [
    "u0=34\n",
    "std0=8\n",
    "u1=32.5\n",
    "sample=50\n",
    "s=0.01\n",
    "z=(u1-u0)/(std0/np.sqrt(sample))\n",
    "print(f'Z Score:{z}')\n",
    "print(f'Critical Range: ({norm.ppf(s/2)},{-norm.ppf(s/2)})')"
   ]
  },
  {
   "cell_type": "raw",
   "metadata": {},
   "source": [
    "We Fail to Reject Factory's Claim as Z Score is less than critical Range."
   ]
  },
  {
   "cell_type": "markdown",
   "metadata": {},
   "source": [
    "# Q4"
   ]
  },
  {
   "cell_type": "code",
   "execution_count": 4,
   "metadata": {},
   "outputs": [
    {
     "name": "stdout",
     "output_type": "stream",
     "text": [
      "P value:0.0559738319464585\n"
     ]
    }
   ],
   "source": [
    "from scipy.stats import ttest_1samp\n",
    "data=[1008, 812, 1117, 1323, 1308, 1415, 831, 1021, 1287, 851, 930, 730, 699, 872, 913, 944, 954, 987, 1695, 995, 1003, 994]\n",
    "u0=1135\n",
    "sample=22\n",
    "alpha=0.05\n",
    "t,pval=ttest_1samp(data,u0)\n",
    "print(f'P value:{pval}')"
   ]
  },
  {
   "cell_type": "code",
   "execution_count": 5,
   "metadata": {},
   "outputs": [
    {
     "name": "stdout",
     "output_type": "stream",
     "text": [
      "We reject Null Hypothesis as p:0.0559738319464585>alpha:0.05\n"
     ]
    }
   ],
   "source": [
    "print(f'We reject Null Hypothesis as p:{pval}>alpha:{alpha}')"
   ]
  },
  {
   "cell_type": "markdown",
   "metadata": {},
   "source": [
    "# Q5"
   ]
  },
  {
   "cell_type": "code",
   "execution_count": 6,
   "metadata": {},
   "outputs": [
    {
     "name": "stdout",
     "output_type": "stream",
     "text": [
      "Z Score:1.42\n",
      "Critical Range: (-1.9599639845400545,1.9599639845400545)\n"
     ]
    }
   ],
   "source": [
    "u0=48432\n",
    "std0=2000\n",
    "u1=48574\n",
    "sample=400\n",
    "s=0.05\n",
    "z=(u1-u0)/(std0/np.sqrt(sample))\n",
    "print(f'Z Score:{z}')\n",
    "print(f'Critical Range: ({norm.ppf(s/2)},{-norm.ppf(s/2)})')"
   ]
  },
  {
   "cell_type": "code",
   "execution_count": 7,
   "metadata": {},
   "outputs": [
    {
     "name": "stdout",
     "output_type": "stream",
     "text": [
      "We Fail to reject Null Hypothesis As Z score < Critical range for signifiance :0.05\n"
     ]
    }
   ],
   "source": [
    "print(f'We Fail to reject Null Hypothesis As Z score < Critical range for signifiance :{s}')"
   ]
  },
  {
   "cell_type": "markdown",
   "metadata": {},
   "source": [
    "# Q6"
   ]
  },
  {
   "cell_type": "code",
   "execution_count": 8,
   "metadata": {},
   "outputs": [
    {
     "name": "stdout",
     "output_type": "stream",
     "text": [
      "Z Score:-2.06118477175179\n",
      "Critical Range: (-1.9599639845400545,1.9599639845400545)\n"
     ]
    }
   ],
   "source": [
    "u0=32.28\n",
    "std1=1.29\n",
    "u1=31.67\n",
    "sample=19\n",
    "s=0.05\n",
    "z=(u1-u0)/(std1/np.sqrt(sample))\n",
    "print(f'Z Score:{z}')\n",
    "print(f'Critical Range: ({norm.ppf(s/2)},{-norm.ppf(s/2)})')"
   ]
  },
  {
   "cell_type": "raw",
   "metadata": {},
   "source": [
    "We Reject Null Hypothesis as Z-Score>Critical Range"
   ]
  },
  {
   "cell_type": "markdown",
   "metadata": {},
   "source": [
    "# Q7"
   ]
  },
  {
   "cell_type": "code",
   "execution_count": 9,
   "metadata": {},
   "outputs": [],
   "source": [
    "from scipy.stats import norm \n",
    "from scipy import integrate\n",
    "def P(z,b=np.inf) :\n",
    "    return integrate.quad(norm.pdf,z,b)[0]"
   ]
  },
  {
   "cell_type": "code",
   "execution_count": 10,
   "metadata": {},
   "outputs": [
    {
     "name": "stdout",
     "output_type": "stream",
     "text": [
      "z score range:(0.6324555320336759, 4.427188724235731)\n",
      "Beta at Mu1 = 52 is : -0.26353985497284643\n"
     ]
    }
   ],
   "source": [
    "u0=48.5\n",
    "std0=2.5\n",
    "u1=52\n",
    "u2=51.5\n",
    "sample=10\n",
    "s=0.01\n",
    "z=(u1-u0)/(std0/np.sqrt(sample))\n",
    "z1=(u1-u2)/(std0/np.sqrt(sample))\n",
    "print(f'z score range:{min(z1,z),max(z1,z)}')\n",
    "Beta11 =P(z,z1)\n",
    "print(f\"Beta at Mu1 = 52 is : {Beta11}\")"
   ]
  },
  {
   "cell_type": "code",
   "execution_count": 11,
   "metadata": {},
   "outputs": [
    {
     "name": "stdout",
     "output_type": "stream",
     "text": [
      "z score range:(-1.2649110640673518, 2.5298221281347035)\n",
      "Beta at Mu1 = 52 is : 0.8913423764409648\n"
     ]
    }
   ],
   "source": [
    "u0=48.5\n",
    "std0=2.5\n",
    "u1=50.5\n",
    "u2=51.5\n",
    "sample=10\n",
    "s=0.01\n",
    "z=(u1-u0)/(std0/np.sqrt(sample))\n",
    "z1=(u1-u2)/(std0/np.sqrt(sample))\n",
    "print(f'z score range:{min(z1,z),max(z1,z)}')\n",
    "Beta11 =P(z1,z)\n",
    "print(f\"Beta at Mu1 = 52 is : {Beta11}\")"
   ]
  },
  {
   "cell_type": "raw",
   "metadata": {},
   "source": [
    "part2"
   ]
  },
  {
   "cell_type": "code",
   "execution_count": 12,
   "metadata": {},
   "outputs": [
    {
     "name": "stdout",
     "output_type": "stream",
     "text": [
      "z score range:(1.2649110640673518, 5.059644256269407)\n",
      "Beta at Mu1 = 52 is : 0.10295139534633534\n"
     ]
    }
   ],
   "source": [
    "u0=48\n",
    "std0=2.5\n",
    "u1=52\n",
    "u2=51\n",
    "sample=10\n",
    "s=0.01\n",
    "z=(u1-u0)/(std0/np.sqrt(sample))\n",
    "z1=(u1-u2)/(std0/np.sqrt(sample))\n",
    "print(f'z score range:{min(z1,z),max(z1,z)}')\n",
    "Beta11 =P(z1,z)\n",
    "print(f\"Beta at Mu1 = 52 is : {Beta11}\")"
   ]
  },
  {
   "cell_type": "code",
   "execution_count": 13,
   "metadata": {},
   "outputs": [
    {
     "name": "stdout",
     "output_type": "stream",
     "text": [
      "z score range:(-0.6324555320336759, 3.1622776601683795)\n",
      "Beta at Mu1 = 52 is : 0.7356726704382297\n"
     ]
    }
   ],
   "source": [
    "u0=48\n",
    "std0=2.5\n",
    "u1=50.5\n",
    "u2=51\n",
    "sample=10\n",
    "s=0.01\n",
    "z=(u1-u0)/(std0/np.sqrt(sample))\n",
    "z1=(u1-u2)/(std0/np.sqrt(sample))\n",
    "print(f'z score range:{min(z1,z),max(z1,z)}')\n",
    "Beta11 =P(z1,z)\n",
    "print(f\"Beta at Mu1 = 52 is : {Beta11}\")"
   ]
  },
  {
   "cell_type": "raw",
   "metadata": {},
   "source": [
    "part 3"
   ]
  },
  {
   "cell_type": "code",
   "execution_count": 14,
   "metadata": {},
   "outputs": [
    {
     "name": "stdout",
     "output_type": "stream",
     "text": [
      "z score range:(0.16000000000000228, 5.1039999999999965)\n",
      "Beta at Mu1 = 52 is : 0.4364403708344305\n"
     ]
    }
   ],
   "source": [
    "u0=48.81\n",
    "std0=2.5\n",
    "u1=52\n",
    "u2=51.9\n",
    "sample=16\n",
    "s=0.01\n",
    "z=(u1-u0)/(std0/np.sqrt(sample))\n",
    "z1=(u1-u2)/(std0/np.sqrt(sample))\n",
    "print(f'z score range:{min(z1,z),max(z1,z)}')\n",
    "Beta11 =P(z1,z)\n",
    "print(f\"Beta at Mu1 = 52 is : {Beta11}\")"
   ]
  },
  {
   "cell_type": "code",
   "execution_count": 15,
   "metadata": {},
   "outputs": [
    {
     "name": "stdout",
     "output_type": "stream",
     "text": [
      "z score range:(-2.2399999999999975, 2.703999999999996)\n",
      "Beta at Mu1 = 52 is : 0.9840290241059674\n"
     ]
    }
   ],
   "source": [
    "u0=48.81\n",
    "std0=2.5\n",
    "u1=50.5\n",
    "u2=51.9\n",
    "sample=16\n",
    "s=0.01\n",
    "z=(u1-u0)/(std0/np.sqrt(sample))\n",
    "z1=(u1-u2)/(std0/np.sqrt(sample))\n",
    "print(f'z score range:{min(z1,z),max(z1,z)}')\n",
    "Beta11 =P(z1,z)\n",
    "print(f\"Beta at Mu1 = 52 is : {Beta11}\")"
   ]
  },
  {
   "cell_type": "raw",
   "metadata": {},
   "source": [
    "part 4"
   ]
  },
  {
   "cell_type": "code",
   "execution_count": 16,
   "metadata": {},
   "outputs": [
    {
     "name": "stdout",
     "output_type": "stream",
     "text": [
      "z score range:(0.6720000000000027, 5.727999999999997)\n",
      "Beta at Mu1 = 52 is : 0.25079184307889063\n"
     ]
    }
   ],
   "source": [
    "u0=48.42\n",
    "std0=2.5\n",
    "u1=52\n",
    "u2=51.58\n",
    "sample=16\n",
    "s=0.01\n",
    "z=(u1-u0)/(std0/np.sqrt(sample))\n",
    "z1=(u1-u2)/(std0/np.sqrt(sample))\n",
    "print(f'z score range:{min(z1,z),max(z1,z)}')\n",
    "Beta11 =P(z1,z)\n",
    "print(f\"Beta at Mu1 = 52 is : {Beta11}\")"
   ]
  },
  {
   "cell_type": "code",
   "execution_count": 17,
   "metadata": {},
   "outputs": [
    {
     "name": "stdout",
     "output_type": "stream",
     "text": [
      "z score range:(-1.7279999999999973, 3.327999999999997)\n",
      "Beta at Mu1 = 52 is : 0.957568528478862\n"
     ]
    }
   ],
   "source": [
    "u0=48.42\n",
    "std0=2.5\n",
    "u1=50.5\n",
    "u2=51.58\n",
    "sample=16\n",
    "s=0.01\n",
    "z=(u1-u0)/(std0/np.sqrt(sample))\n",
    "z1=(u1-u2)/(std0/np.sqrt(sample))\n",
    "print(f'z score range:{min(z1,z),max(z1,z)}')\n",
    "Beta11 =P(z1,z)\n",
    "print(f\"Beta at Mu1 = 52 is : {Beta11}\")"
   ]
  },
  {
   "cell_type": "markdown",
   "metadata": {},
   "source": [
    "# Q8"
   ]
  },
  {
   "cell_type": "code",
   "execution_count": 18,
   "metadata": {},
   "outputs": [
    {
     "name": "stdout",
     "output_type": "stream",
     "text": [
      "t_score is 5.333333333333333\n"
     ]
    }
   ],
   "source": [
    "n = 16\n",
    "p_mean = 10\n",
    "sample_mean =12\n",
    "sample_std =1.5\n",
    "t = (sample_mean-p_mean)/(sample_std/(n**0.5))\n",
    "print(f\"t_score is {(t)}\")"
   ]
  },
  {
   "cell_type": "markdown",
   "metadata": {},
   "source": [
    "# Q9"
   ]
  },
  {
   "cell_type": "code",
   "execution_count": 19,
   "metadata": {},
   "outputs": [
    {
     "name": "stdout",
     "output_type": "stream",
     "text": [
      "t_score is 2.946712883338615\n"
     ]
    }
   ],
   "source": [
    "from scipy import stats\n",
    "n=16\n",
    "alpha=(1-0.99)/2\n",
    "print(f\"t_score is {stats.t.ppf(1-alpha,df=15)}\")"
   ]
  },
  {
   "cell_type": "markdown",
   "metadata": {},
   "source": [
    "# Q10"
   ]
  },
  {
   "cell_type": "code",
   "execution_count": 20,
   "metadata": {},
   "outputs": [
    {
     "name": "stdout",
     "output_type": "stream",
     "text": [
      "Range is : -2.0638985616280205 2.0638985616280205\n"
     ]
    }
   ],
   "source": [
    "mean=60\n",
    "std=4\n",
    "sample=25\n",
    "alpha=(1-.95)/2\n",
    "t_score1=stats.t.ppf(1-alpha,df=24)\n",
    "t_score2=stats.t.ppf(alpha,df=24)\n",
    "print(f\"Range is : {t_score2} {t_score1}\")"
   ]
  },
  {
   "cell_type": "code",
   "execution_count": 21,
   "metadata": {},
   "outputs": [
    {
     "name": "stdout",
     "output_type": "stream",
     "text": [
      "probability that (−𝑡0.05 <𝑡<𝑡0.10) is 0.05914441613731247\n"
     ]
    }
   ],
   "source": [
    "p=stats.t.cdf(0.1,df=24)-stats.t.cdf(-0.05,df=24)\n",
    "print(f\"probability that (−𝑡0.05 <𝑡<𝑡0.10) is {p}\")"
   ]
  },
  {
   "cell_type": "markdown",
   "metadata": {},
   "source": [
    "# Q11"
   ]
  },
  {
   "cell_type": "code",
   "execution_count": 22,
   "metadata": {},
   "outputs": [
    {
     "name": "stdout",
     "output_type": "stream",
     "text": [
      "Z_Score : -7.926428526759299\n",
      "Critical region : -1.9599639845400545 1.9599639845400545\n"
     ]
    }
   ],
   "source": [
    "n1 = 1200 \n",
    "x1 = 452\n",
    "s1 = 212\n",
    "n2 = 800\n",
    "x2 = 523\n",
    "s2 = 185\n",
    "alpha=0.05\n",
    "se=((s1**2/n1)+(s2**2/n2))**0.5\n",
    "z_score=(x1-x2)/se\n",
    "print(f\"Z_Score : {z_score}\")\n",
    "print(f\"Critical region : {norm.ppf(alpha/2)} {-norm.ppf(alpha/2)}\")"
   ]
  },
  {
   "cell_type": "raw",
   "metadata": {},
   "source": [
    "We reject null hypothesis since it lies within critical region at alpha=0.05."
   ]
  },
  {
   "cell_type": "markdown",
   "metadata": {},
   "source": [
    "# Q12"
   ]
  },
  {
   "cell_type": "code",
   "execution_count": 23,
   "metadata": {},
   "outputs": [
    {
     "name": "stdout",
     "output_type": "stream",
     "text": [
      "Z_Score : 5.025702668336442\n",
      "Critical region : -1.9599639845400545 1.9599639845400545\n"
     ]
    }
   ],
   "source": [
    "n1 = 100\n",
    "x1 = 308\n",
    "s1 = 84\n",
    "n2 = 100\n",
    "x2 = 254\n",
    "s2 = 67\n",
    "alpha=0.05\n",
    "se=((s1**2/n1)+(s2**2/n2))**0.5\n",
    "z_score=(x1-x2)/se\n",
    "print(f\"Z_Score : {z_score}\")\n",
    "print(f\"Critical region : {norm.ppf(alpha/2)} {-norm.ppf(alpha/2)}\")"
   ]
  },
  {
   "cell_type": "raw",
   "metadata": {},
   "source": [
    "We reject null hypothesis since it lies within critical region at alpha=0.05."
   ]
  },
  {
   "cell_type": "markdown",
   "metadata": {},
   "source": [
    "# Q13"
   ]
  },
  {
   "cell_type": "code",
   "execution_count": 24,
   "metadata": {},
   "outputs": [
    {
     "name": "stdout",
     "output_type": "stream",
     "text": [
      "T_score is 0.3931089218182991\n",
      "Critical Region is :(-2.0859634472658364,2.0859634472658364)\n"
     ]
    }
   ],
   "source": [
    "n1 = 14 \n",
    "x1 = 0.317\n",
    "s1 = 0.12 \n",
    "n2 = 9 \n",
    "x2 = 0.21 \n",
    "s2 = 0.11\n",
    "s=((n1-1)*(s1**2))+((n2-1)*(s2)**2)\n",
    "n=(n1+n2-2)\n",
    "se=(s/n)**0.5\n",
    "n_1=((1/n1)+(1/n2))**0.5\n",
    "t_score=(x1-x2)/se*n_1\n",
    "\n",
    "print(f\"T_score is {t_score}\")\n",
    "print(f\"Critical Region is :({stats.t.ppf(1-0.975,df=n-1)},{stats.t.ppf(0.975,df=n-1)})\")\n"
   ]
  },
  {
   "cell_type": "raw",
   "metadata": {},
   "source": [
    "We Fail to reject null hypothesis"
   ]
  },
  {
   "cell_type": "markdown",
   "metadata": {},
   "source": [
    "# Q14"
   ]
  },
  {
   "cell_type": "code",
   "execution_count": 25,
   "metadata": {},
   "outputs": [
    {
     "name": "stdout",
     "output_type": "stream",
     "text": [
      "T_score is -0.1364745051598569\n",
      "Critical Region is :(-2.0638985616280205,2.0638985616280205)\n"
     ]
    }
   ],
   "source": [
    "n1 = 15\n",
    "x1 = 6598\n",
    "s1 = 844\n",
    "n2 = 12\n",
    "x2 = 6870\n",
    "s2 = 669\n",
    "s=((n1-1)*(s1**2))+((n2-1)*(s2)**2)\n",
    "n=(n1+n2-2)\n",
    "se=(s/n)**0.5\n",
    "n_1=((1/n1)+(1/n2))**0.5\n",
    "t_score=(x1-x2)/se*n_1\n",
    "\n",
    "print(f\"T_score is {t_score}\")\n",
    "print(f\"Critical Region is :({stats.t.ppf(1-0.975,df=n-1)},{stats.t.ppf(0.975,df=n-1)})\")\n"
   ]
  },
  {
   "cell_type": "raw",
   "metadata": {},
   "source": [
    "We Fail to reject null hypothesis"
   ]
  },
  {
   "cell_type": "markdown",
   "metadata": {},
   "source": [
    "# Q15"
   ]
  },
  {
   "cell_type": "code",
   "execution_count": 26,
   "metadata": {},
   "outputs": [
    {
     "name": "stdout",
     "output_type": "stream",
     "text": [
      "T_score is 1.978884619188965\n",
      "Critical Region is :(-1.9621288398547705,1.9621288398547705)\n"
     ]
    }
   ],
   "source": [
    "n1 = 1000\n",
    "x1 = 53\n",
    "s1 = 0.53\n",
    "n2 = 100\n",
    "x2 = 43\n",
    "s2 = 0.53\n",
    "s=((n1-1)*(s1**2))+((n2-1)*(s2)**2)\n",
    "n=(n1+n2-2)\n",
    "se=(s/n)**0.5\n",
    "n_1=((1/n1)+(1/n2))**0.5\n",
    "t_score=(x1-x2)/se*n_1\n",
    "\n",
    "print(f\"T_score is {t_score}\")\n",
    "print(f\"Critical Region is :({stats.t.ppf(1-0.975,df=n-1)},{stats.t.ppf(0.975,df=n-1)})\")\n"
   ]
  },
  {
   "cell_type": "raw",
   "metadata": {},
   "source": [
    "We  reject null hypothesis at alpha=0.05"
   ]
  },
  {
   "cell_type": "markdown",
   "metadata": {},
   "source": [
    "# Q16"
   ]
  },
  {
   "cell_type": "code",
   "execution_count": 27,
   "metadata": {},
   "outputs": [
    {
     "name": "stdout",
     "output_type": "stream",
     "text": [
      "T_score is -2.604020978650393\n",
      "Critical Region is :(-1.6463834109167177)\n"
     ]
    }
   ],
   "source": [
    "n1 = 300 \n",
    "x1 = 120 \n",
    "𝑝1 = 0.40  \n",
    "n2 = 700 \n",
    "x2 = 140 \n",
    "𝑝2= 0.20\n",
    "s=((n1-1)*(s1**2))+((n2-1)*(s2)**2)\n",
    "n=(n1+n2-2)\n",
    "se=(s/n)**0.5\n",
    "n_1=((1/n1)+(1/n2))**0.5\n",
    "t_score=(x1-x2)/se*n_1\n",
    "print(f\"T_score is {t_score}\")\n",
    "print(f\"Critical Region is :({-stats.t.ppf(.95,df=n-1)})\")"
   ]
  },
  {
   "cell_type": "raw",
   "metadata": {},
   "source": [
    "We Reject Null Hypothesis"
   ]
  },
  {
   "cell_type": "markdown",
   "metadata": {},
   "source": [
    "# Q17"
   ]
  },
  {
   "cell_type": "code",
   "execution_count": 28,
   "metadata": {},
   "outputs": [
    {
     "name": "stdout",
     "output_type": "stream",
     "text": [
      "Chi square value is 9.0 and p-value is 0.1090641579497725\n"
     ]
    }
   ],
   "source": [
    "sample=132\n",
    "obs= [16, 20, 25, 14, 29, 28]\n",
    "exp= [22,22,22,22,22,22]\n",
    "result=stats.chisquare(obs,exp)\n",
    "print(f\"Chi square value is {result[0]} and p-value is {result[1]}\")"
   ]
  },
  {
   "cell_type": "raw",
   "metadata": {},
   "source": [
    "Dice is unbiased."
   ]
  },
  {
   "cell_type": "markdown",
   "metadata": {},
   "source": [
    "# Q18"
   ]
  },
  {
   "cell_type": "code",
   "execution_count": 29,
   "metadata": {},
   "outputs": [
    {
     "name": "stdout",
     "output_type": "stream",
     "text": [
      "Chi Square value is 6.552337973968181\n",
      "critical value=3.841458820694124\n"
     ]
    }
   ],
   "source": [
    "from scipy.stats import chi2_contingency,chi2\n",
    "men=[2792,1486]\n",
    "women=[3591,2131]\n",
    "obs=np.array([men,women])\n",
    "result=chi2_contingency(obs)\n",
    "print(f\"Chi Square value is {result[0]}\")\n",
    "print(f'critical value={chi2.ppf(1-.05,df=1)}')"
   ]
  },
  {
   "cell_type": "raw",
   "metadata": {},
   "source": [
    "since critical value< chi square value we reject hypothesis that there is no relationship between gender and votes."
   ]
  },
  {
   "cell_type": "markdown",
   "metadata": {},
   "source": [
    "# Q19"
   ]
  },
  {
   "cell_type": "code",
   "execution_count": 30,
   "metadata": {},
   "outputs": [
    {
     "name": "stdout",
     "output_type": "stream",
     "text": [
      "Chi Square value is 14.959999999999999\n",
      "Critical region with 3df and alpha=0.05 is 7.814727903251179\n"
     ]
    }
   ],
   "source": [
    "obs=[41,19,24,16]\n",
    "exp=[25,25,25,25]\n",
    "result=stats.chisquare(obs,exp)\n",
    "print(f\"Chi Square value is {result[0]}\")\n",
    "print(f\"Critical region with 3df and alpha=0.05 is {chi2.ppf(1-.05,df=3)}\")"
   ]
  },
  {
   "cell_type": "raw",
   "metadata": {},
   "source": [
    "We reject null hypothesis that all candidates are  equally popular."
   ]
  },
  {
   "cell_type": "markdown",
   "metadata": {},
   "source": [
    "# Q20"
   ]
  },
  {
   "cell_type": "code",
   "execution_count": 31,
   "metadata": {},
   "outputs": [
    {
     "name": "stdout",
     "output_type": "stream",
     "text": [
      "Chi Score:29.603174603174608\n",
      "Critical region with 4df and alpha=0.02 is 29.6012130692299\n"
     ]
    }
   ],
   "source": [
    "obs=np.array([[18,22,20],[2,28,40],[20,10,40]])\n",
    "result=chi2_contingency(obs)\n",
    "print(f\"Chi Score:{result[0]}\")\n",
    "print(f\"Critical region with 4df and alpha=0.02 is {chi2.ppf(1-.0000059,df=4)}\")"
   ]
  },
  {
   "cell_type": "raw",
   "metadata": {},
   "source": [
    "We Reject the Null Hypothesis."
   ]
  },
  {
   "cell_type": "markdown",
   "metadata": {},
   "source": [
    "# Q21"
   ]
  },
  {
   "cell_type": "code",
   "execution_count": 32,
   "metadata": {},
   "outputs": [
    {
     "name": "stdout",
     "output_type": "stream",
     "text": [
      "Chi Score:18.10344827586207\n",
      "Critical region with 1df and p<0.05 is 19.87\n"
     ]
    }
   ],
   "source": [
    "obs=np.array([[18,32],[40,10]])\n",
    "result=chi2_contingency(obs)\n",
    "print(f\"Chi Score:{result[0]}\")\n",
    "print(f\"Critical region with 1df and p<0.05 is 19.87\")"
   ]
  },
  {
   "cell_type": "raw",
   "metadata": {},
   "source": [
    "Hence we fail to reject null Hypothesis."
   ]
  },
  {
   "cell_type": "markdown",
   "metadata": {},
   "source": [
    "# Q22"
   ]
  },
  {
   "cell_type": "code",
   "execution_count": 33,
   "metadata": {},
   "outputs": [
    {
     "name": "stdout",
     "output_type": "stream",
     "text": [
      "Chi Score:10.712198008709638\n",
      "Critical region with 2df and p<0.01 is 10.71\n"
     ]
    }
   ],
   "source": [
    "obs=np.array([[12,32],[22,14],[9,6]])\n",
    "result=chi2_contingency(obs)\n",
    "print(f\"Chi Score:{result[0]}\")\n",
    "print(f\"Critical region with 2df and p<0.01 is 10.71\")"
   ]
  },
  {
   "cell_type": "raw",
   "metadata": {},
   "source": [
    "Hence we f reject null Hypothesis.As chi score>critical value."
   ]
  },
  {
   "cell_type": "markdown",
   "metadata": {},
   "source": [
    "# Q23"
   ]
  },
  {
   "cell_type": "code",
   "execution_count": 34,
   "metadata": {},
   "outputs": [
    {
     "name": "stdout",
     "output_type": "stream",
     "text": [
      "Chi Score:31.61310319407798\n",
      "Critical region with 2df:9.21034037197618\n"
     ]
    }
   ],
   "source": [
    "obs=np.array([[679,103,114],[63,10,20],[42,18,25]])\n",
    "result=chi2_contingency(obs)\n",
    "print(f\"Chi Score:{result[0]}\")\n",
    "print(f\"Critical region with 2df:{chi2.ppf(0.99,df=2)}\")"
   ]
  },
  {
   "cell_type": "raw",
   "metadata": {},
   "source": [
    "Hence We reject null hypothesis."
   ]
  },
  {
   "cell_type": "code",
   "execution_count": null,
   "metadata": {},
   "outputs": [],
   "source": []
  }
 ],
 "metadata": {
  "kernelspec": {
   "display_name": "Python 3",
   "language": "python",
   "name": "python3"
  },
  "language_info": {
   "codemirror_mode": {
    "name": "ipython",
    "version": 3
   },
   "file_extension": ".py",
   "mimetype": "text/x-python",
   "name": "python",
   "nbconvert_exporter": "python",
   "pygments_lexer": "ipython3",
   "version": "3.7.7"
  }
 },
 "nbformat": 4,
 "nbformat_minor": 4
}
